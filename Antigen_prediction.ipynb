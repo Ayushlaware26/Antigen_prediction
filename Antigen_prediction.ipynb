{
 "cells": [
  {
   "cell_type": "code",
   "execution_count": 1,
   "id": "79f4913b",
   "metadata": {},
   "outputs": [
    {
     "name": "stdout",
     "output_type": "stream",
     "text": [
      "2.6.0.dev20241112+cu121\n"
     ]
    }
   ],
   "source": [
    "import torch\n",
    "print(torch.__version__)  # should be 2.6.0.dev...\n"
   ]
  },
  {
   "cell_type": "code",
   "execution_count": 2,
   "id": "32bf1a31",
   "metadata": {},
   "outputs": [],
   "source": [
    "import pandas as pd\n",
    "\n",
    "df = pd.read_csv(\"MITLL_AAlphaBio_Ab_Binding_dataset.csv\")\n",
    "df[\"input\"] = df[\"CDRH3\"] + df[\"CDRL3\"]\n",
    "df[\"output\"] = df[\"Sequence\"]\n",
    "\n",
    "with open(\"formatted_dataset.txt\", \"w\") as f:\n",
    "    for i in range(len(df)):\n",
    "        f.write(f\"{df.loc[i, 'input']} -> {df.loc[i, 'output']}\\n\")\n"
   ]
  },
  {
   "cell_type": "code",
   "execution_count": 4,
   "id": "89e68592",
   "metadata": {},
   "outputs": [],
   "source": [
    "from transformers import AutoTokenizer, AutoModelForCausalLM\n",
    "\n",
    "model_name = \"nferruz/ProtGPT2\"\n",
    "\n",
    "tokenizer = AutoTokenizer.from_pretrained(model_name)\n",
    "tokenizer.pad_token = tokenizer.eos_token  # required for GPT-2\n",
    "\n",
    "model = AutoModelForCausalLM.from_pretrained(\n",
    "    model_name,\n",
    "    use_safetensors=True,  # ✅ Enforce safetensors\n",
    ")\n"
   ]
  },
  {
   "cell_type": "code",
   "execution_count": 5,
   "id": "e3262d61",
   "metadata": {},
   "outputs": [
    {
     "name": "stdout",
     "output_type": "stream",
     "text": [
      "trainable params: 2,949,120 || all params: 776,979,200 || trainable%: 0.3796\n"
     ]
    },
    {
     "name": "stderr",
     "output_type": "stream",
     "text": [
      "c:\\Users\\ayush\\OneDrive\\Desktop\\Updated_Intern_Rd\\myenv\\lib\\site-packages\\peft\\tuners\\lora\\layer.py:1803: UserWarning: fan_in_fan_out is set to False but the target module is `Conv1D`. Setting fan_in_fan_out to True.\n",
      "  warnings.warn(\n"
     ]
    }
   ],
   "source": [
    "from peft import get_peft_model, LoraConfig, TaskType\n",
    "\n",
    "lora_config = LoraConfig(\n",
    "    r=16,\n",
    "    lora_alpha=64,\n",
    "    target_modules=[\"c_attn\"],\n",
    "    lora_dropout=0.05,\n",
    "    bias=\"none\",\n",
    "    task_type=TaskType.CAUSAL_LM,\n",
    ")\n",
    "\n",
    "model = get_peft_model(model, lora_config)\n",
    "model.print_trainable_parameters()\n"
   ]
  },
  {
   "cell_type": "code",
   "execution_count": 11,
   "id": "2a0be263",
   "metadata": {},
   "outputs": [
    {
     "name": "stderr",
     "output_type": "stream",
     "text": [
      "Map: 100%|██████████| 700/700 [00:00<00:00, 3621.10 examples/s]\n"
     ]
    }
   ],
   "source": [
    "from datasets import load_dataset, Dataset\n",
    "\n",
    "with open(\"formatted_dataset.txt\") as f:\n",
    "    lines = f.readlines()\n",
    "\n",
    "dataset = Dataset.from_list([{\"text\": l.strip()} for l in lines])\n",
    "subset = dataset.select(range(700))  \n",
    "\n",
    "def tokenize(example):\n",
    "    return tokenizer(example[\"text\"], truncation=True, padding=\"max_length\", max_length=256)\n",
    "\n",
    "tokenized_dataset = subset.map(tokenize, batched=True)\n"
   ]
  },
  {
   "cell_type": "code",
   "execution_count": 12,
   "id": "fffe07ee",
   "metadata": {},
   "outputs": [],
   "source": [
    "from transformers import TrainingArguments\n",
    "\n",
    "training_args = TrainingArguments(\n",
    "    output_dir=\"./protgpt2-lora-finetuned\",\n",
    "    num_train_epochs=2,  # ✅ Adjusted\n",
    "    per_device_train_batch_size=4,\n",
    "    gradient_accumulation_steps=2,\n",
    "    logging_dir=\"./logs\",\n",
    "    logging_steps=50,\n",
    "    save_strategy=\"epoch\",\n",
    "    fp16=True,\n",
    "    report_to=\"none\",\n",
    ")\n"
   ]
  },
  {
   "cell_type": "code",
   "execution_count": 13,
   "id": "9f673251",
   "metadata": {},
   "outputs": [
    {
     "name": "stderr",
     "output_type": "stream",
     "text": [
      "No label_names provided for model class `PeftModelForCausalLM`. Since `PeftModel` hides base models input arguments, if label_names is not given, label_names can't be set automatically within `Trainer`. Note that empty label_names list will be used instead.\n"
     ]
    },
    {
     "data": {
      "text/html": [
       "\n",
       "    <div>\n",
       "      \n",
       "      <progress value='176' max='176' style='width:300px; height:20px; vertical-align: middle;'></progress>\n",
       "      [176/176 23:31, Epoch 2/2]\n",
       "    </div>\n",
       "    <table border=\"1\" class=\"dataframe\">\n",
       "  <thead>\n",
       " <tr style=\"text-align: left;\">\n",
       "      <th>Step</th>\n",
       "      <th>Training Loss</th>\n",
       "    </tr>\n",
       "  </thead>\n",
       "  <tbody>\n",
       "    <tr>\n",
       "      <td>50</td>\n",
       "      <td>6.883400</td>\n",
       "    </tr>\n",
       "    <tr>\n",
       "      <td>100</td>\n",
       "      <td>5.152500</td>\n",
       "    </tr>\n",
       "    <tr>\n",
       "      <td>150</td>\n",
       "      <td>4.198600</td>\n",
       "    </tr>\n",
       "  </tbody>\n",
       "</table><p>"
      ],
      "text/plain": [
       "<IPython.core.display.HTML object>"
      ]
     },
     "metadata": {},
     "output_type": "display_data"
    },
    {
     "data": {
      "text/plain": [
       "TrainOutput(global_step=176, training_loss=5.184010765769265, metrics={'train_runtime': 1420.1902, 'train_samples_per_second': 0.986, 'train_steps_per_second': 0.124, 'total_flos': 1529664503808000.0, 'train_loss': 5.184010765769265, 'epoch': 2.0})"
      ]
     },
     "execution_count": 13,
     "metadata": {},
     "output_type": "execute_result"
    }
   ],
   "source": [
    "from transformers import Trainer, DataCollatorForLanguageModeling\n",
    "\n",
    "data_collator = DataCollatorForLanguageModeling(tokenizer=tokenizer, mlm=False)\n",
    "\n",
    "trainer = Trainer(\n",
    "    model=model,\n",
    "    args=training_args,\n",
    "    train_dataset=tokenized_dataset,\n",
    "    data_collator=data_collator,\n",
    ")\n",
    "\n",
    "trainer.train()\n"
   ]
  },
  {
   "cell_type": "code",
   "execution_count": 15,
   "id": "4bb62769",
   "metadata": {},
   "outputs": [
    {
     "name": "stderr",
     "output_type": "stream",
     "text": [
      "Device set to use cuda:0\n"
     ]
    },
    {
     "name": "stdout",
     "output_type": "stream",
     "text": [
      "['NMGDGCELMGNACEIMGNACEIMGNACEIMGNACEIMGNACEIMGNACEIMGNACEIMGNACEIMGNACEIMSNACEIMGNACEIMGNACEIMGNACEIMGNACEIMGNACEIMGNACEIMGNACEIMGNACEIMGNACEIMGNACEIMGNACEIMGNACEIMGNACEIMGNACEIMGNACEIMGNACEIMGNACEIMGNACEIMGNACEIMGNACEIMGNACEIMGNACEIMGNACEIMGNACEIMGNACEIMGNACEIMGNACEIMGNACEIMGNACEIMGNACEIMGNACEIMGNACEIMGNACEIMGNACEIMGNACEIMGNACEIMGNACEIMGNACEIMGNACEIMGNACEIMGNACEIMGNACEIMGNACEIMGNACEIMGNACEIMGNACEIMGNACEIMGNACEIMGNACEIMGNACEIMGNACEIMGNACEIMGNACEIMGNACEIMGNACEIMGNACEIMGNACEIMGNACEIMGNACEIMGNACEIMGNACEIMGNACEIMGNACEIMGNACEIMGNACEIMGNACEIMGNACEIMGNACEIMGNACEIMGNACEIMGNACEIMGNACEIMGNACEIMGNACEIMGNACEIMGNACEIMGNACEIMGNACEIMGNACEIMGNACEIMGNACEIMGNACEIMGNACEIMGNACEIMGNACEIMGNACEIMGNACEIMGNACEIMGNACEIMGNACEIMGNACEIMGNACEIMGNACEIMGNACEIMGNACEIMGNACEIMGNACEIMGNACEIMGNACEIMGNACEIMGNACEIMGNACEIMGNACEIMGNACEIMGNACEIMGNACEIMGNACEIMGNACEIMGNACEIMGNACEIMGNACEIMGNACEIMGNACEIMGNACEIMGNACEIMGNACEIMGNACEIMGNACEIMGNACEIMGNACEIMGNACEIMGNACEIMGNACEIMGNACEIMGNACEIMGNACEIMGNACEIMGNACEIMGNACEIMGNACEIMGNACEIMGNACEI']\n"
     ]
    }
   ],
   "source": [
    "from transformers import pipeline\n",
    "\n",
    "generator = pipeline(\n",
    "    \"text-generation\",\n",
    "    model=model,\n",
    "    tokenizer=tokenizer,\n",
    "    device=0 if torch.cuda.is_available() else -1,\n",
    ")\n",
    "\n",
    "def generate_antigen(cdr_sequence):\n",
    "    prompt = f\"CDR: {cdr_sequence} Antigen:\"\n",
    "    outputs = generator(prompt, max_new_tokens=500, do_sample=True)\n",
    "    return [out[\"generated_text\"].split(\"Antigen:\")[-1].strip() for out in outputs]\n",
    "\n",
    "cdr_input = \"GRAAGTFDSQQYHRLPLS\"\n",
    "antigens = generate_antigen(cdr_input)\n",
    "print(antigens)\n"
   ]
  },
  {
   "cell_type": "code",
   "execution_count": 22,
   "id": "298f1a7f",
   "metadata": {},
   "outputs": [
    {
     "name": "stderr",
     "output_type": "stream",
     "text": [
      "Device set to use cuda:0\n"
     ]
    },
    {
     "name": "stdout",
     "output_type": "stream",
     "text": [
      "['VHGGQQFHPGQGGQGFVQGG\\nGWGQGGQQVCQSQTVSGGFGGGFGGGFGGGFGGGFGGGFGGFGGGFGGGFGGGFGGFGGNQ\\nEVKTSYSAQTVQSNRVSGGQSSGGQSGGLGGGGFGGAQGGGFGGSSGGGFGGSSGGFGGN\\nQGGSSGGGFGGGNQGGSSGGGFGSGGFGGGQGGSSGGGFGGSSGGFGGNQGGSSGGGFGG\\nNSGGSSGGGFGGGQGGSSGGGFGASSGGSSGGFGGGSGGGFGSSSGGGFGGGQGGSSGGG\\nFGGNQGGSSGGGFGGSSGGGFGGSSGGGFGGSSGGGFGGSSGGGFGGSSGGGFGGSSGGG\\nFGGSSGGFGGSSGGGFGGGQGGSSGGGFGGSSGGGFGGSSGGGFGGSSGGFGGSSGGGFG']\n"
     ]
    }
   ],
   "source": [
    "from transformers import pipeline\n",
    "\n",
    "generator = pipeline(\n",
    "    \"text-generation\",\n",
    "    model=model,\n",
    "    tokenizer=tokenizer,\n",
    "    device=0 if torch.cuda.is_available() else -1,\n",
    ")\n",
    "\n",
    "def generate_antigen(cdr_sequence):\n",
    "    prompt = f\"CDR: {cdr_sequence} Antigen:\"\n",
    "    outputs = generator(prompt, max_new_tokens=500, do_sample=True)\n",
    "    return [out[\"generated_text\"].split(\"Antigen:\")[-1].strip() for out in outputs]\n",
    "\n",
    "cdr_input = \"GRAAGTFDSQQYHRLPLS\"\n",
    "antigens = generate_antigen(cdr_input)\n",
    "print(antigens)\n"
   ]
  },
  {
   "cell_type": "code",
   "execution_count": 24,
   "id": "b80b6427",
   "metadata": {},
   "outputs": [],
   "source": [
    "from Bio import pairwise2\n",
    "from Bio.pairwise2 import format_alignment"
   ]
  },
  {
   "cell_type": "code",
   "execution_count": 30,
   "id": "df65c2c8",
   "metadata": {},
   "outputs": [
    {
     "name": "stdout",
     "output_type": "stream",
     "text": [
      "1002\n",
      "246\n"
     ]
    }
   ],
   "source": [
    "seq1 = \"NMGDGCELMGNACEIMGNACEIMGNACEIMGNACEIMGNACEIMGNACEIMGNACEIMGNACEIMGNACEIMSNACEIMGNACEIMGNACEIMGNACEIMGNACEIMGNACEIMGNACEIMGNACEIMGNACEIMGNACEIMGNACEIMGNACEIMGNACEIMGNACEIMGNACEIMGNACEIMGNACEIMGNACEIMGNACEIMGNACEIMGNACEIMGNACEIMGNACEIMGNACEIMGNACEIMGNACEIMGNACEIMGNACEIMGNACEIMGNACEIMGNACEIMGNACEIMGNACEIMGNACEIMGNACEIMGNACEIMGNACEIMGNACEIMGNACEIMGNACEIMGNACEIMGNACEIMGNACEIMGNACEIMGNACEIMGNACEIMGNACEIMGNACEIMGNACEIMGNACEIMGNACEIMGNACEIMGNACEIMGNACEIMGNACEIMGNACEIMGNACEIMGNACEIMGNACEIMGNACEIMGNACEIMGNACEIMGNACEIMGNACEIMGNACEIMGNACEIMGNACEIMGNACEIMGNACEIMGNACEIMGNACEIMGNACEIMGNACEIMGNACEIMGNACEIMGNACEIMGNACEIMGNACEIMGNACEIMGNACEIMGNACEIMGNACEIMGNACEIMGNACEIMGNACEIMGNACEIMGNACEIMGNACEIMGNACEIMGNACEIMGNACEIMGNACEIMGNACEIMGNACEIMGNACEIMGNACEIMGNACEIMGNACEIMGNACEIMGNACEIMGNACEIMGNACEIMGNACEIMGNACEIMGNACEIMGNACEIMGNACEIMGNACEIMGNACEIMGNACEIMGNACEIMGNACEIMGNACEIMGNACEIMGNACEIMGNACEIMGNACEIMGNACEIMGNACEIMGNACEIMGNACEIMGNACEIMGNACEIMGNACEIMGNACEIMGNACEIMGNACEIMGNACEIMGNACEIMGNACEIMGNACEIMGNACEIMGNACEI\"\n",
    "print(len(seq1))\n",
    "seq2 = \"EVQLVETGGGLVQPGGSLRLSCAASGFTLNSYGISWVRQAPGKGPEWVSVIYSDGRRTFYGDSVKGRFTISRDTSTNTVYLQMNSLRVEDTAVYYCAKGRAAGTFDSWGQGTLVTVSSGGGGSGGGGSGGGGSDVVMTQSPESLAVSLGERATISCHSSQSVGYESRMKNSVAWYQQKAGQPPKLLIYWASTRESGVPDRFSGSGSGTDFTLTISSLQAEDAAVYYCQQYHRLPLSFGGGTKVEIK\"\n",
    "print(len(seq2))"
   ]
  },
  {
   "cell_type": "code",
   "execution_count": 26,
   "id": "4c3ccf6e",
   "metadata": {},
   "outputs": [
    {
     "name": "stdout",
     "output_type": "stream",
     "text": [
      "NMGDGCE--LMGNACEIMGNACEIMGNACEIMGNAC-EIM-GNACEIMGNACEIMGNACEIM----GNACEIMGNACEIMSNACEIMGNACEIMGNACEIMGNACEIMGNACEIMGNACEIMGNACEIMGNACEIMGNACEIMGNACEIMGNACEIMGNACEIMGNACEIMGNACEIMGNACEIMGNACEIMGNACEIMGNACEIMGNACEIMGNACEIMGNACEIMGNACEIMGNACEIMGNACEIMGNACEIMGNACEIMGNACEIMGNACEIMGNACEIMGNACEIMGNACEIMGNACEIMGNACEIMGNACEIMGNACEIMGNACEIMGNACEIMGNACEIMGNACEIMGNACEIMGNACEIMGNACEIMGNACEIMGNACEIMGNACEIMGNACEIMGNACEIMGNACEIMGNACEIMGNACEIMGNACEIMGNACEIMGNACEIMGNACEIMGNACEIMGNACEIMGNACEIMGNACEIMGNACEIMGNACEIMGNACEIMGNACEIMGNACEIMGNACEIMGNACEIMGNACEIMGNACEIMGNACEIMGNACEIMGNACEIMGNACEIMGNACEIMGNACEIMGNACEIMGNACEIMGNACEIMGNACEIMGNACEIMGNACEIMGNACEIMGNACEIMGNA----CEIMGNACEIMGNACEIM-G---NACEIM--GNACEIMGN-----ACEIM-GNACEIM-GNAC-E----IM---GNACEIM-----GNACEIM----GNACE---IMG------NACEI-----MGNAC----EIMGN--A---CEIMGNACEIM-GN-ACEIMGNACEIMGNACEIM-----GNACEIM-GNACEIM-------GNACEIMGNACEIMGNACEIMGNACEIM-GNACEIMGNACEIMGNACEIMGNACEIM-GNACEIMGNACEIMGNACEIMGNACEI----MGNAC----EIMGN--ACEIM---GNACEIMGN-ACE-IMGNA-CEIM------GNAC-EI--MG-N--ACEIMGN-----ACEIMGNACE------IMGN--AC---EIM-GNACEIM------GNACEIM-GNACEIM-GNACE------IMGN----ACEIMGN-ACEIMGNA---CEIM----------GNACEIMGNACEIMGNAC---EI-\n",
      "      |  |                           |   |      |      |          |      |      |                                                                                                                                                                                                                                                                                                                                                                                                                                                                                                                                                                                             |     |      |     |   |       |    |        |     |       |    |    |    |           |          |       |        |         | |      |      |   |     |     |  |      |    |           |       |             |      |      |      |       |      |      |      |       |      |      |      |         |        |      |       |   |     |   |     |         |    |   |  |  |           |    |          |     |    |   |            |       |       |          |       | |     |      |   |             |      |      |      || \n",
      "------EVQL--------------------------VE--TG------G------G------LVQPG------G------S-----------------------------------------------------------------------------------------------------------------------------------------------------------------------------------------------------------------------------------------------------------------------------------------------------------------------------------------------------------------------------------------------------------------------------------------------------------------------------------------------------------------------------------------------------------------------------------------LRLSC-----A------A----SGFTLN-----SYG----I---SWVRQA----PG------KG---PEWVSVI-YSDG------RRTFYG------DSVKG----RFTI--SRDTSTN----TVYLQM-N--SLRVE----DTAVYYC-----A----KG-RA------A----G------TFDSWG------QG------TLVTVSSG------G------G------G------SG------G------G------G------SG------G------G------G-----SDVVM----TQSPE----SLA----VSLG---E----RA--TI----SC---HSSQSVG---YE-SRM-KNSVA------WYQQKA----G----QPPKLLI---YWA-STRE--SG------VPDRFSG------SG------SG----TDFTLTI---SSLQA-E----DA------AVYYC---QQYHRLPLSFG------G------G---TKVEIK\n",
      "  Score=83\n",
      "\n"
     ]
    }
   ],
   "source": [
    "alignments = pairwise2.align.globalxx(seq1, seq2)\n",
    "for alignment in alignments:\n",
    "    print(format_alignment(*alignment))"
   ]
  },
  {
   "cell_type": "code",
   "execution_count": null,
   "id": "268d13fb",
   "metadata": {},
   "outputs": [],
   "source": []
  }
 ],
 "metadata": {
  "kernelspec": {
   "display_name": "Python (Updated Intern)",
   "language": "python",
   "name": "updated-intern"
  },
  "language_info": {
   "codemirror_mode": {
    "name": "ipython",
    "version": 3
   },
   "file_extension": ".py",
   "mimetype": "text/x-python",
   "name": "python",
   "nbconvert_exporter": "python",
   "pygments_lexer": "ipython3",
   "version": "3.10.0"
  }
 },
 "nbformat": 4,
 "nbformat_minor": 5
}
