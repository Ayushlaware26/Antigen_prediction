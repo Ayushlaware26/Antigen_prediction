{
 "cells": [
  {
   "cell_type": "code",
   "execution_count": 2,
   "id": "2f32d92e",
   "metadata": {},
   "outputs": [],
   "source": [
    "import pandas as pd"
   ]
  },
  {
   "cell_type": "code",
   "execution_count": 4,
   "id": "6796025a",
   "metadata": {},
   "outputs": [],
   "source": [
    "df = pd.read_csv(\"MITLL_AAlphaBio_Ab_Binding_dataset.csv\")"
   ]
  },
  {
   "cell_type": "code",
   "execution_count": 6,
   "id": "d6eabaab",
   "metadata": {},
   "outputs": [],
   "source": [
    "df[\"input\"] = df[\"CDRH3\"] + df[\"CDRL3\"]"
   ]
  },
  {
   "cell_type": "code",
   "execution_count": 8,
   "id": "1a8f9aa3",
   "metadata": {},
   "outputs": [],
   "source": [
    "df[\"output\"] = df[\"Sequence\"]\n"
   ]
  },
  {
   "cell_type": "code",
   "execution_count": 9,
   "id": "2a3cfdbc",
   "metadata": {},
   "outputs": [],
   "source": [
    "with open(\"MITLL_AAlphaBio_Ab_Binding_dataset.csv\", \"w\") as f:\n",
    "    for i in range(len(df)):\n",
    "        f.write(f\"{df.loc[i, 'input']} -> {df.loc[i, 'output']}\\n\")"
   ]
  },
  {
   "cell_type": "code",
   "execution_count": 12,
   "id": "35bd4d0e",
   "metadata": {},
   "outputs": [
    {
     "name": "stdout",
     "output_type": "stream",
     "text": [
      "Requirement already satisfied: transformers in c:\\users\\ayush\\desktop\\example\\env\\lib\\site-packages (4.52.4)\n",
      "Requirement already satisfied: datasets in c:\\users\\ayush\\desktop\\example\\env\\lib\\site-packages (3.6.0)\n",
      "Requirement already satisfied: peft in c:\\users\\ayush\\desktop\\example\\env\\lib\\site-packages (0.15.2)\n",
      "Requirement already satisfied: accelerate in c:\\users\\ayush\\desktop\\example\\env\\lib\\site-packages (1.8.1)\n",
      "Requirement already satisfied: bitsandbytes in c:\\users\\ayush\\desktop\\example\\env\\lib\\site-packages (0.46.0)\n",
      "Requirement already satisfied: filelock in c:\\users\\ayush\\desktop\\example\\env\\lib\\site-packages (from transformers) (3.18.0)\n",
      "Requirement already satisfied: huggingface-hub<1.0,>=0.30.0 in c:\\users\\ayush\\desktop\\example\\env\\lib\\site-packages (from transformers) (0.33.0)\n",
      "Requirement already satisfied: numpy>=1.17 in c:\\users\\ayush\\desktop\\example\\env\\lib\\site-packages (from transformers) (2.3.1)\n",
      "Requirement already satisfied: packaging>=20.0 in c:\\users\\ayush\\desktop\\example\\env\\lib\\site-packages (from transformers) (25.0)\n",
      "Requirement already satisfied: pyyaml>=5.1 in c:\\users\\ayush\\desktop\\example\\env\\lib\\site-packages (from transformers) (6.0.2)\n",
      "Requirement already satisfied: regex!=2019.12.17 in c:\\users\\ayush\\desktop\\example\\env\\lib\\site-packages (from transformers) (2024.11.6)\n",
      "Requirement already satisfied: requests in c:\\users\\ayush\\desktop\\example\\env\\lib\\site-packages (from transformers) (2.32.4)\n",
      "Requirement already satisfied: tokenizers<0.22,>=0.21 in c:\\users\\ayush\\desktop\\example\\env\\lib\\site-packages (from transformers) (0.21.1)\n",
      "Requirement already satisfied: safetensors>=0.4.3 in c:\\users\\ayush\\desktop\\example\\env\\lib\\site-packages (from transformers) (0.5.3)\n",
      "Requirement already satisfied: tqdm>=4.27 in c:\\users\\ayush\\desktop\\example\\env\\lib\\site-packages (from transformers) (4.67.1)\n",
      "Requirement already satisfied: fsspec>=2023.5.0 in c:\\users\\ayush\\desktop\\example\\env\\lib\\site-packages (from huggingface-hub<1.0,>=0.30.0->transformers) (2025.3.0)\n",
      "Requirement already satisfied: typing-extensions>=3.7.4.3 in c:\\users\\ayush\\desktop\\example\\env\\lib\\site-packages (from huggingface-hub<1.0,>=0.30.0->transformers) (4.14.0)\n",
      "Requirement already satisfied: pyarrow>=15.0.0 in c:\\users\\ayush\\desktop\\example\\env\\lib\\site-packages (from datasets) (20.0.0)\n",
      "Requirement already satisfied: dill<0.3.9,>=0.3.0 in c:\\users\\ayush\\desktop\\example\\env\\lib\\site-packages (from datasets) (0.3.8)\n",
      "Requirement already satisfied: pandas in c:\\users\\ayush\\desktop\\example\\env\\lib\\site-packages (from datasets) (2.3.0)\n",
      "Requirement already satisfied: xxhash in c:\\users\\ayush\\desktop\\example\\env\\lib\\site-packages (from datasets) (3.5.0)\n",
      "Requirement already satisfied: multiprocess<0.70.17 in c:\\users\\ayush\\desktop\\example\\env\\lib\\site-packages (from datasets) (0.70.16)\n",
      "Requirement already satisfied: aiohttp!=4.0.0a0,!=4.0.0a1 in c:\\users\\ayush\\desktop\\example\\env\\lib\\site-packages (from fsspec[http]<=2025.3.0,>=2023.1.0->datasets) (3.12.13)\n",
      "Requirement already satisfied: psutil in c:\\users\\ayush\\desktop\\example\\env\\lib\\site-packages (from peft) (7.0.0)\n",
      "Requirement already satisfied: torch>=1.13.0 in c:\\users\\ayush\\desktop\\example\\env\\lib\\site-packages (from peft) (2.7.1)\n",
      "Requirement already satisfied: sympy>=1.13.3 in c:\\users\\ayush\\desktop\\example\\env\\lib\\site-packages (from torch>=1.13.0->peft) (1.14.0)\n",
      "Requirement already satisfied: networkx in c:\\users\\ayush\\desktop\\example\\env\\lib\\site-packages (from torch>=1.13.0->peft) (3.5)\n",
      "Requirement already satisfied: jinja2 in c:\\users\\ayush\\desktop\\example\\env\\lib\\site-packages (from torch>=1.13.0->peft) (3.1.6)\n",
      "Requirement already satisfied: setuptools in c:\\users\\ayush\\desktop\\example\\env\\lib\\site-packages (from torch>=1.13.0->peft) (80.9.0)\n",
      "Requirement already satisfied: aiohappyeyeballs>=2.5.0 in c:\\users\\ayush\\desktop\\example\\env\\lib\\site-packages (from aiohttp!=4.0.0a0,!=4.0.0a1->fsspec[http]<=2025.3.0,>=2023.1.0->datasets) (2.6.1)\n",
      "Requirement already satisfied: aiosignal>=1.1.2 in c:\\users\\ayush\\desktop\\example\\env\\lib\\site-packages (from aiohttp!=4.0.0a0,!=4.0.0a1->fsspec[http]<=2025.3.0,>=2023.1.0->datasets) (1.3.2)\n",
      "Requirement already satisfied: attrs>=17.3.0 in c:\\users\\ayush\\desktop\\example\\env\\lib\\site-packages (from aiohttp!=4.0.0a0,!=4.0.0a1->fsspec[http]<=2025.3.0,>=2023.1.0->datasets) (25.3.0)\n",
      "Requirement already satisfied: frozenlist>=1.1.1 in c:\\users\\ayush\\desktop\\example\\env\\lib\\site-packages (from aiohttp!=4.0.0a0,!=4.0.0a1->fsspec[http]<=2025.3.0,>=2023.1.0->datasets) (1.7.0)\n",
      "Requirement already satisfied: multidict<7.0,>=4.5 in c:\\users\\ayush\\desktop\\example\\env\\lib\\site-packages (from aiohttp!=4.0.0a0,!=4.0.0a1->fsspec[http]<=2025.3.0,>=2023.1.0->datasets) (6.5.0)\n",
      "Requirement already satisfied: propcache>=0.2.0 in c:\\users\\ayush\\desktop\\example\\env\\lib\\site-packages (from aiohttp!=4.0.0a0,!=4.0.0a1->fsspec[http]<=2025.3.0,>=2023.1.0->datasets) (0.3.2)\n",
      "Requirement already satisfied: yarl<2.0,>=1.17.0 in c:\\users\\ayush\\desktop\\example\\env\\lib\\site-packages (from aiohttp!=4.0.0a0,!=4.0.0a1->fsspec[http]<=2025.3.0,>=2023.1.0->datasets) (1.20.1)\n",
      "Requirement already satisfied: idna>=2.0 in c:\\users\\ayush\\desktop\\example\\env\\lib\\site-packages (from yarl<2.0,>=1.17.0->aiohttp!=4.0.0a0,!=4.0.0a1->fsspec[http]<=2025.3.0,>=2023.1.0->datasets) (3.10)\n",
      "Requirement already satisfied: charset_normalizer<4,>=2 in c:\\users\\ayush\\desktop\\example\\env\\lib\\site-packages (from requests->transformers) (3.4.2)\n",
      "Requirement already satisfied: urllib3<3,>=1.21.1 in c:\\users\\ayush\\desktop\\example\\env\\lib\\site-packages (from requests->transformers) (2.4.0)\n",
      "Requirement already satisfied: certifi>=2017.4.17 in c:\\users\\ayush\\desktop\\example\\env\\lib\\site-packages (from requests->transformers) (2025.6.15)\n",
      "Requirement already satisfied: mpmath<1.4,>=1.1.0 in c:\\users\\ayush\\desktop\\example\\env\\lib\\site-packages (from sympy>=1.13.3->torch>=1.13.0->peft) (1.3.0)\n",
      "Requirement already satisfied: colorama in c:\\users\\ayush\\desktop\\example\\env\\lib\\site-packages (from tqdm>=4.27->transformers) (0.4.6)\n",
      "Requirement already satisfied: MarkupSafe>=2.0 in c:\\users\\ayush\\desktop\\example\\env\\lib\\site-packages (from jinja2->torch>=1.13.0->peft) (3.0.2)\n",
      "Requirement already satisfied: python-dateutil>=2.8.2 in c:\\users\\ayush\\desktop\\example\\env\\lib\\site-packages (from pandas->datasets) (2.9.0.post0)\n",
      "Requirement already satisfied: pytz>=2020.1 in c:\\users\\ayush\\desktop\\example\\env\\lib\\site-packages (from pandas->datasets) (2025.2)\n",
      "Requirement already satisfied: tzdata>=2022.7 in c:\\users\\ayush\\desktop\\example\\env\\lib\\site-packages (from pandas->datasets) (2025.2)\n",
      "Requirement already satisfied: six>=1.5 in c:\\users\\ayush\\desktop\\example\\env\\lib\\site-packages (from python-dateutil>=2.8.2->pandas->datasets) (1.17.0)\n"
     ]
    }
   ],
   "source": [
    "!pip install transformers datasets peft accelerate bitsandbytes --progress-bar=on\n"
   ]
  },
  {
   "cell_type": "code",
   "execution_count": 14,
   "id": "f19663a4",
   "metadata": {},
   "outputs": [
    {
     "name": "stderr",
     "output_type": "stream",
     "text": [
      "The installed version of bitsandbytes was compiled without GPU support. 8-bit optimizers and GPU quantization are unavailable.\n"
     ]
    },
    {
     "name": "stdout",
     "output_type": "stream",
     "text": [
      "trainable params: 1,474,560 || all params: 775,504,640 || trainable%: 0.1901\n"
     ]
    },
    {
     "name": "stderr",
     "output_type": "stream",
     "text": [
      "c:\\Users\\Ayush\\Desktop\\example\\env\\Lib\\site-packages\\peft\\tuners\\lora\\layer.py:1768: UserWarning: fan_in_fan_out is set to False but the target module is `Conv1D`. Setting fan_in_fan_out to True.\n",
      "  warnings.warn(\n"
     ]
    }
   ],
   "source": [
    "from transformers import AutoModelForCausalLM, AutoTokenizer\n",
    "from peft import get_peft_model, LoraConfig, TaskType\n",
    "\n",
    "model_name = \"nferruz/ProtGPT2\"\n",
    "\n",
    "tokenizer = AutoTokenizer.from_pretrained(model_name)\n",
    "tokenizer.pad_token = tokenizer.eos_token  # Required for padding\n",
    "\n",
    "# Load model\n",
    "model = AutoModelForCausalLM.from_pretrained(model _name)\n",
    "\n",
    "# LoRA config\n",
    "lora_config = LoraConfig(\n",
    "    r=8,                      # LoRA rank\n",
    "    lora_alpha=32,            # Scaling factor\n",
    "    target_modules=[\"c_attn\"],# GPT2-specific modules\n",
    "    lora_dropout=0.1,\n",
    "    bias=\"none\",\n",
    "    task_type=TaskType.CAUSAL_LM\n",
    ")\n",
    "\n",
    "# Add LoRA adapters\n",
    "model = get_peft_model(model, lora_config)\n",
    "model.print_trainable_parameters()\n"
   ]
  },
  {
   "cell_type": "code",
   "execution_count": 33,
   "id": "cf575301",
   "metadata": {},
   "outputs": [],
   "source": [
    "small_dataset = dataset.select(range(100))  # first 10k samples only\n"
   ]
  },
  {
   "cell_type": "code",
   "execution_count": 34,
   "id": "e12bc5a8",
   "metadata": {},
   "outputs": [
    {
     "name": "stderr",
     "output_type": "stream",
     "text": [
      "Map: 100%|██████████| 100/100 [00:00<00:00, 1187.32 examples/s]\n"
     ]
    }
   ],
   "source": [
    "from datasets import Dataset\n",
    "\n",
    "# Load your dataset (you can use select(range(300)) to test faster)\n",
    "with open(\"MITLL_AAlphaBio_Ab_Binding_dataset.csv\", \"r\") as f:\n",
    "    lines = f.readlines()\n",
    "dataset = Dataset.from_list([{\"text\": l.strip()} for l in lines])\n",
    "\n",
    "def tokenize_function(example):\n",
    "    return tokenizer(\n",
    "        example[\"text\"],\n",
    "        truncation=True,\n",
    "        padding=\"max_length\",\n",
    "        max_length=256,\n",
    "    )\n",
    "\n",
    "tokenized_small_dataset = small_dataset.map(tokenize_function, batched=True)\n",
    "\n"
   ]
  },
  {
   "cell_type": "code",
   "execution_count": 37,
   "id": "42f325e4",
   "metadata": {},
   "outputs": [],
   "source": [
    "from transformers import TrainingArguments\n",
    "\n",
    "training_args = TrainingArguments(\n",
    "    output_dir=\"./protgpt2-lora-finetuned\",\n",
    "    run_name=\"protgpt2-lora-run\",  # Appears in wandb\n",
    "    per_device_train_batch_size=4,  # Increased batch size if memory allows\n",
    "    gradient_accumulation_steps=2,  # Effective batch size = 8\n",
    "    num_train_epochs=1,  # Or reduce to 1 for quick iteration\n",
    "    save_strategy=\"epoch\",\n",
    "    logging_dir=\"./logs\",\n",
    "    logging_steps=100,  # Log loss etc. every 100 steps\n",
    "    report_to=\"wandb\",  # or \"none\" if not using wandb\n",
    "    fp16=True,  # Mixed precision (speeds up training on GPU)\n",
    "    dataloader_num_workers=2,  # Useful on Colab or multi-core\n",
    "    warmup_steps=50,  # Helps prevent instability at start\n",
    ")\n"
   ]
  },
  {
   "cell_type": "code",
   "execution_count": 31,
   "id": "77bd4d1a",
   "metadata": {},
   "outputs": [
    {
     "name": "stdout",
     "output_type": "stream",
     "text": [
      "Requirement already satisfied: wandb in c:\\users\\ayush\\desktop\\example\\env\\lib\\site-packages (0.20.1)\n",
      "Requirement already satisfied: click!=8.0.0,>=7.1 in c:\\users\\ayush\\desktop\\example\\env\\lib\\site-packages (from wandb) (8.2.1)\n",
      "Requirement already satisfied: gitpython!=3.1.29,>=1.0.0 in c:\\users\\ayush\\desktop\\example\\env\\lib\\site-packages (from wandb) (3.1.44)\n",
      "Requirement already satisfied: packaging in c:\\users\\ayush\\desktop\\example\\env\\lib\\site-packages (from wandb) (25.0)\n",
      "Requirement already satisfied: platformdirs in c:\\users\\ayush\\desktop\\example\\env\\lib\\site-packages (from wandb) (4.3.8)\n",
      "Requirement already satisfied: protobuf!=4.21.0,!=5.28.0,<7,>=3.19.0 in c:\\users\\ayush\\desktop\\example\\env\\lib\\site-packages (from wandb) (6.31.1)\n",
      "Requirement already satisfied: psutil>=5.0.0 in c:\\users\\ayush\\desktop\\example\\env\\lib\\site-packages (from wandb) (7.0.0)\n",
      "Requirement already satisfied: pydantic<3 in c:\\users\\ayush\\desktop\\example\\env\\lib\\site-packages (from wandb) (2.11.7)\n",
      "Requirement already satisfied: pyyaml in c:\\users\\ayush\\desktop\\example\\env\\lib\\site-packages (from wandb) (6.0.2)\n",
      "Requirement already satisfied: requests<3,>=2.0.0 in c:\\users\\ayush\\desktop\\example\\env\\lib\\site-packages (from wandb) (2.32.4)\n",
      "Requirement already satisfied: sentry-sdk>=2.0.0 in c:\\users\\ayush\\desktop\\example\\env\\lib\\site-packages (from wandb) (2.30.0)\n",
      "Requirement already satisfied: setproctitle in c:\\users\\ayush\\desktop\\example\\env\\lib\\site-packages (from wandb) (1.3.6)\n",
      "Requirement already satisfied: typing-extensions<5,>=4.8 in c:\\users\\ayush\\desktop\\example\\env\\lib\\site-packages (from wandb) (4.14.0)\n",
      "Requirement already satisfied: annotated-types>=0.6.0 in c:\\users\\ayush\\desktop\\example\\env\\lib\\site-packages (from pydantic<3->wandb) (0.7.0)\n",
      "Requirement already satisfied: pydantic-core==2.33.2 in c:\\users\\ayush\\desktop\\example\\env\\lib\\site-packages (from pydantic<3->wandb) (2.33.2)\n",
      "Requirement already satisfied: typing-inspection>=0.4.0 in c:\\users\\ayush\\desktop\\example\\env\\lib\\site-packages (from pydantic<3->wandb) (0.4.1)\n",
      "Requirement already satisfied: charset_normalizer<4,>=2 in c:\\users\\ayush\\desktop\\example\\env\\lib\\site-packages (from requests<3,>=2.0.0->wandb) (3.4.2)\n",
      "Requirement already satisfied: idna<4,>=2.5 in c:\\users\\ayush\\desktop\\example\\env\\lib\\site-packages (from requests<3,>=2.0.0->wandb) (3.10)\n",
      "Requirement already satisfied: urllib3<3,>=1.21.1 in c:\\users\\ayush\\desktop\\example\\env\\lib\\site-packages (from requests<3,>=2.0.0->wandb) (2.4.0)\n",
      "Requirement already satisfied: certifi>=2017.4.17 in c:\\users\\ayush\\desktop\\example\\env\\lib\\site-packages (from requests<3,>=2.0.0->wandb) (2025.6.15)\n",
      "Requirement already satisfied: colorama in c:\\users\\ayush\\desktop\\example\\env\\lib\\site-packages (from click!=8.0.0,>=7.1->wandb) (0.4.6)\n",
      "Requirement already satisfied: gitdb<5,>=4.0.1 in c:\\users\\ayush\\desktop\\example\\env\\lib\\site-packages (from gitpython!=3.1.29,>=1.0.0->wandb) (4.0.12)\n",
      "Requirement already satisfied: smmap<6,>=3.0.1 in c:\\users\\ayush\\desktop\\example\\env\\lib\\site-packages (from gitdb<5,>=4.0.1->gitpython!=3.1.29,>=1.0.0->wandb) (5.0.2)\n",
      "Note: you may need to restart the kernel to use updated packages.\n"
     ]
    }
   ],
   "source": [
    "pip install wandb"
   ]
  },
  {
   "cell_type": "code",
   "execution_count": 38,
   "id": "fa4798bf",
   "metadata": {},
   "outputs": [
    {
     "name": "stderr",
     "output_type": "stream",
     "text": [
      "No label_names provided for model class `PeftModelForCausalLM`. Since `PeftModel` hides base models input arguments, if label_names is not given, label_names can't be set automatically within `Trainer`. Note that empty label_names list will be used instead.\n"
     ]
    },
    {
     "data": {
      "text/html": [
       "\n",
       "    <div>\n",
       "      \n",
       "      <progress value='13' max='13' style='width:300px; height:20px; vertical-align: middle;'></progress>\n",
       "      [13/13 05:51, Epoch 1/1]\n",
       "    </div>\n",
       "    <table border=\"1\" class=\"dataframe\">\n",
       "  <thead>\n",
       " <tr style=\"text-align: left;\">\n",
       "      <th>Step</th>\n",
       "      <th>Training Loss</th>\n",
       "    </tr>\n",
       "  </thead>\n",
       "  <tbody>\n",
       "  </tbody>\n",
       "</table><p>"
      ],
      "text/plain": [
       "<IPython.core.display.HTML object>"
      ]
     },
     "metadata": {},
     "output_type": "display_data"
    },
    {
     "data": {
      "text/plain": [
       "TrainOutput(global_step=13, training_loss=8.213111290564903, metrics={'train_runtime': 391.932, 'train_samples_per_second': 0.255, 'train_steps_per_second': 0.033, 'total_flos': 109035257856000.0, 'train_loss': 8.213111290564903, 'epoch': 1.0})"
      ]
     },
     "execution_count": 38,
     "metadata": {},
     "output_type": "execute_result"
    }
   ],
   "source": [
    "from transformers import Trainer, DataCollatorForLanguageModeling\n",
    "\n",
    "# Use this if you're training a causal language model (like ProtGPT2)\n",
    "data_collator = DataCollatorForLanguageModeling(\n",
    "    tokenizer=tokenizer,\n",
    "    mlm=False  # Important: set to False for autoregressive models\n",
    ")\n",
    "\n",
    "trainer = Trainer(\n",
    "    model=model,\n",
    "    args=training_args,\n",
    "    train_dataset=tokenized_small_dataset,\n",
    "    data_collator=data_collator,\n",
    ")\n",
    "\n",
    "# Start training\n",
    "trainer.train()\n"
   ]
  },
  {
   "cell_type": "code",
   "execution_count": 39,
   "id": "46fe102f",
   "metadata": {},
   "outputs": [],
   "source": [
    "from transformers import pipeline\n",
    "\n",
    "def generate_antigen(cdr_sequence: str, max_length: int = 100, num_return_sequences: int = 1):\n",
    "    \"\"\"\n",
    "    Generate antigen sequence(s) from a given CDR input using the trained model.\n",
    "\n",
    "    Args:\n",
    "        cdr_sequence (str): The input CDR amino acid sequence.\n",
    "        max_length (int): Maximum length of the generated antigen sequence.\n",
    "        num_return_sequences (int): Number of sequences to return.\n",
    "\n",
    "    Returns:\n",
    "        List[str]: Generated antigen sequences.\n",
    "    \"\"\"\n",
    "    # Prepare the text generation pipeline\n",
    "    generator = pipeline(\n",
    "        \"text-generation\",\n",
    "        model=model,\n",
    "        tokenizer=tokenizer,\n",
    "        device=0 if torch.cuda.is_available() else -1\n",
    "    )\n",
    "\n",
    "    # Prompt format (adjust based on training formatting)\n",
    "    prompt = f\"CDR: {cdr_sequence} Antigen:\"\n",
    "\n",
    "    # Generate output\n",
    "    outputs = generator(\n",
    "        prompt,\n",
    "        max_length=max_length,\n",
    "        num_return_sequences=num_return_sequences,\n",
    "        do_sample=True,\n",
    "        temperature=1.0,\n",
    "        top_k=50,\n",
    "        top_p=0.95,\n",
    "        pad_token_id=tokenizer.eos_token_id\n",
    "    )\n",
    "\n",
    "    # Extract just the generated antigen sequences\n",
    "    antigen_sequences = [output[\"generated_text\"].split(\"Antigen:\")[-1].strip() for output in outputs]\n",
    "    return antigen_sequences\n"
   ]
  },
  {
   "cell_type": "code",
   "execution_count": 40,
   "id": "baa7acd3",
   "metadata": {},
   "outputs": [
    {
     "name": "stderr",
     "output_type": "stream",
     "text": [
      "Device set to use cpu\n",
      "Truncation was not explicitly activated but `max_length` is provided a specific value, please use `truncation=True` to explicitly truncate examples to max length. Defaulting to 'longest_first' truncation strategy. If you encode pairs of sequences (GLUE-style) with the tokenizer you can select this strategy more precisely by providing a specific strategy to `truncation`.\n",
      "Both `max_new_tokens` (=256) and `max_length`(=100) seem to have been set. `max_new_tokens` will take precedence. Please refer to the documentation for more information. (https://huggingface.co/docs/transformers/main/en/main_classes/text_generation)\n"
     ]
    },
    {
     "name": "stdout",
     "output_type": "stream",
     "text": [
      "Generated Antigen 1: DPTRHYAHVDCPGHADYVKNMITGAAQMDGAILVVAATDGPMPQTREHILLGRQVGVPYIIVF\n",
      "ANKMDMVDDEELLELVEMEVRDLLTQYEFDGDNAPIIRGSALKALEGDKELGEKAVMELPDG\n",
      "TPFLEAIEKFDAIPADHDRPFTFPTRYTTKDQFTVKGQVQVFDGRLTKGTEMVMPGDNTAXV\n",
      "TFXFTAPIAMAMGLRFAIREGGRTVGSGVITEVVD\n"
     ]
    }
   ],
   "source": [
    "cdr_input = \"EVQLVETGGGLVQPGGSLRLSCAASGFTLNSYGISWVRQAPGKGPEWV\"\n",
    "generated_antigens = generate_antigen(cdr_input)\n",
    "\n",
    "for i, antigen in enumerate(generated_antigens, 1):\n",
    "    print(f\"Generated Antigen {i}: {antigen}\")\n"
   ]
  },
  {
   "cell_type": "code",
   "execution_count": null,
   "id": "e0571bcb",
   "metadata": {},
   "outputs": [],
   "source": []
  }
 ],
 "metadata": {
  "kernelspec": {
   "display_name": "env",
   "language": "python",
   "name": "python3"
  },
  "language_info": {
   "codemirror_mode": {
    "name": "ipython",
    "version": 3
   },
   "file_extension": ".py",
   "mimetype": "text/x-python",
   "name": "python",
   "nbconvert_exporter": "python",
   "pygments_lexer": "ipython3",
   "version": "3.13.1"
  }
 },
 "nbformat": 4,
 "nbformat_minor": 5
}
